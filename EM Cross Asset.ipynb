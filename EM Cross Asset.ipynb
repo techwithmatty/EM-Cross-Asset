{
 "cells": [
  {
   "cell_type": "markdown",
   "id": "93405073",
   "metadata": {},
   "source": [
    "# EM Cross Asset Analysis (FX, Rates and Credit)"
   ]
  },
  {
   "cell_type": "code",
   "execution_count": 5,
   "id": "aaa76703",
   "metadata": {
    "scrolled": true
   },
   "outputs": [],
   "source": [
    "import pandas as pd\n",
    "import seaborn as sns\n",
    "import numpy as np\n",
    "import matplotlib.pyplot as plt"
   ]
  },
  {
   "cell_type": "markdown",
   "id": "8db21b56",
   "metadata": {},
   "source": [
    "## EM Local vs Hard Currency Debt (2005 to 2022)"
   ]
  },
  {
   "cell_type": "code",
   "execution_count": 6,
   "id": "4d90a87f",
   "metadata": {},
   "outputs": [],
   "source": [
    "df = pd.read_excel('/Users/mathias/Documents/EM Rates Trading/em1_raw_data.xlsx', \"Data\")\n",
    "df['Year'] = df['date'].dt.year\n",
    "df['Year'] = df['Year'].astype(str)"
   ]
  },
  {
   "cell_type": "markdown",
   "id": "d49a844f",
   "metadata": {},
   "source": [
    "BREAKDOWN OF COLUMNS IN DATASET\n",
    "\n",
    "- **GG_dc**:  General government long-term bonds in local currency outstanding (USD bn).\n",
    "- **GG_fc**:  General government long-term bonds in foreign currencies outstanding (USD bn).\n",
    "- **GG_tt**:  General government long-term bonds in all currencies outstanding (USD bn).\n",
    "- **GG_dc_XB**:  Foreign holdings of local currency bonds (USD bn).\n",
    "- **GG_fc_XB**:  Foreign holdings of foreign-currency bonds (USD bn).\n",
    "- **GG_tt_XB**:  Foreign holdings of all bonds (USD bn).\n",
    "- **GG_dc_XB_pc**: Foreign investor share in local-currency bond market (% of local-currency bonds outstanding)\n",
    "- **GG_share_dc_XB**: Share of local currencies in foreign holdings (% of foreign holdings in all currencies)\n",
    "- **GG_share_dc**: Share of local currencies in government bonds (% of outstanding in all currencies)\n",
    "- **ExchangeRate**: National currency units per US dollar, end-of-period values."
   ]
  },
  {
   "cell_type": "code",
   "execution_count": 7,
   "id": "abbcd854",
   "metadata": {
    "scrolled": true
   },
   "outputs": [
    {
     "data": {
      "text/html": [
       "<div>\n",
       "<style scoped>\n",
       "    .dataframe tbody tr th:only-of-type {\n",
       "        vertical-align: middle;\n",
       "    }\n",
       "\n",
       "    .dataframe tbody tr th {\n",
       "        vertical-align: top;\n",
       "    }\n",
       "\n",
       "    .dataframe thead th {\n",
       "        text-align: right;\n",
       "    }\n",
       "</style>\n",
       "<table border=\"1\" class=\"dataframe\">\n",
       "  <thead>\n",
       "    <tr style=\"text-align: right;\">\n",
       "      <th></th>\n",
       "      <th>date</th>\n",
       "      <th>quarter</th>\n",
       "      <th>country</th>\n",
       "      <th>iso</th>\n",
       "      <th>GG_dc</th>\n",
       "      <th>GG_fc</th>\n",
       "      <th>GG_tt</th>\n",
       "      <th>GG_dc_XB</th>\n",
       "      <th>GG_fc_XB</th>\n",
       "      <th>GG_tt_XB</th>\n",
       "      <th>GG_dc_XB_pc</th>\n",
       "      <th>GG_tt_XB_pc</th>\n",
       "      <th>GG_share_dc_XB</th>\n",
       "      <th>GG_share_dc</th>\n",
       "      <th>ExchangeRate</th>\n",
       "      <th>Year</th>\n",
       "    </tr>\n",
       "  </thead>\n",
       "  <tbody>\n",
       "    <tr>\n",
       "      <th>0</th>\n",
       "      <td>2005-10-01</td>\n",
       "      <td>4</td>\n",
       "      <td>Argentina</td>\n",
       "      <td>AR</td>\n",
       "      <td>53.093401</td>\n",
       "      <td>51.328602</td>\n",
       "      <td>104.422002</td>\n",
       "      <td>7.541865</td>\n",
       "      <td>22.258135</td>\n",
       "      <td>29.800</td>\n",
       "      <td>14.204901</td>\n",
       "      <td>28.538046</td>\n",
       "      <td>25.308271</td>\n",
       "      <td>50.845032</td>\n",
       "      <td>3.043147</td>\n",
       "      <td>2005</td>\n",
       "    </tr>\n",
       "    <tr>\n",
       "      <th>1</th>\n",
       "      <td>2006-01-01</td>\n",
       "      <td>1</td>\n",
       "      <td>Argentina</td>\n",
       "      <td>AR</td>\n",
       "      <td>NaN</td>\n",
       "      <td>NaN</td>\n",
       "      <td>NaN</td>\n",
       "      <td>7.700805</td>\n",
       "      <td>25.499195</td>\n",
       "      <td>33.200</td>\n",
       "      <td>14.472681</td>\n",
       "      <td>31.579782</td>\n",
       "      <td>23.195196</td>\n",
       "      <td>50.612545</td>\n",
       "      <td>3.081626</td>\n",
       "      <td>2006</td>\n",
       "    </tr>\n",
       "    <tr>\n",
       "      <th>2</th>\n",
       "      <td>2006-04-01</td>\n",
       "      <td>2</td>\n",
       "      <td>Argentina</td>\n",
       "      <td>AR</td>\n",
       "      <td>NaN</td>\n",
       "      <td>NaN</td>\n",
       "      <td>NaN</td>\n",
       "      <td>8.212016</td>\n",
       "      <td>26.787984</td>\n",
       "      <td>35.000</td>\n",
       "      <td>15.258669</td>\n",
       "      <td>32.873738</td>\n",
       "      <td>23.462902</td>\n",
       "      <td>50.549187</td>\n",
       "      <td>3.091324</td>\n",
       "      <td>2006</td>\n",
       "    </tr>\n",
       "    <tr>\n",
       "      <th>3</th>\n",
       "      <td>2006-07-01</td>\n",
       "      <td>3</td>\n",
       "      <td>Argentina</td>\n",
       "      <td>AR</td>\n",
       "      <td>NaN</td>\n",
       "      <td>NaN</td>\n",
       "      <td>NaN</td>\n",
       "      <td>9.030800</td>\n",
       "      <td>26.369200</td>\n",
       "      <td>35.400</td>\n",
       "      <td>16.610674</td>\n",
       "      <td>33.171308</td>\n",
       "      <td>25.510735</td>\n",
       "      <td>50.944618</td>\n",
       "      <td>3.104265</td>\n",
       "      <td>2006</td>\n",
       "    </tr>\n",
       "    <tr>\n",
       "      <th>4</th>\n",
       "      <td>2006-10-01</td>\n",
       "      <td>4</td>\n",
       "      <td>Argentina</td>\n",
       "      <td>AR</td>\n",
       "      <td>55.662273</td>\n",
       "      <td>53.414481</td>\n",
       "      <td>109.076755</td>\n",
       "      <td>5.470265</td>\n",
       "      <td>33.029735</td>\n",
       "      <td>38.500</td>\n",
       "      <td>9.827599</td>\n",
       "      <td>35.296247</td>\n",
       "      <td>14.208481</td>\n",
       "      <td>51.030373</td>\n",
       "      <td>3.075171</td>\n",
       "      <td>2006</td>\n",
       "    </tr>\n",
       "    <tr>\n",
       "      <th>...</th>\n",
       "      <td>...</td>\n",
       "      <td>...</td>\n",
       "      <td>...</td>\n",
       "      <td>...</td>\n",
       "      <td>...</td>\n",
       "      <td>...</td>\n",
       "      <td>...</td>\n",
       "      <td>...</td>\n",
       "      <td>...</td>\n",
       "      <td>...</td>\n",
       "      <td>...</td>\n",
       "      <td>...</td>\n",
       "      <td>...</td>\n",
       "      <td>...</td>\n",
       "      <td>...</td>\n",
       "      <td>...</td>\n",
       "    </tr>\n",
       "    <tr>\n",
       "      <th>1858</th>\n",
       "      <td>2021-10-01</td>\n",
       "      <td>4</td>\n",
       "      <td>South Africa</td>\n",
       "      <td>ZA</td>\n",
       "      <td>214.589359</td>\n",
       "      <td>20.566300</td>\n",
       "      <td>235.155660</td>\n",
       "      <td>60.514199</td>\n",
       "      <td>9.664801</td>\n",
       "      <td>70.179</td>\n",
       "      <td>28.200000</td>\n",
       "      <td>29.843637</td>\n",
       "      <td>86.228355</td>\n",
       "      <td>91.254181</td>\n",
       "      <td>15.947819</td>\n",
       "      <td>2021</td>\n",
       "    </tr>\n",
       "    <tr>\n",
       "      <th>1859</th>\n",
       "      <td>2022-01-01</td>\n",
       "      <td>1</td>\n",
       "      <td>South Africa</td>\n",
       "      <td>ZA</td>\n",
       "      <td>NaN</td>\n",
       "      <td>NaN</td>\n",
       "      <td>NaN</td>\n",
       "      <td>67.792938</td>\n",
       "      <td>7.662062</td>\n",
       "      <td>75.455</td>\n",
       "      <td>28.600000</td>\n",
       "      <td>29.290614</td>\n",
       "      <td>89.845520</td>\n",
       "      <td>92.015053</td>\n",
       "      <td>14.568688</td>\n",
       "      <td>2022</td>\n",
       "    </tr>\n",
       "    <tr>\n",
       "      <th>1860</th>\n",
       "      <td>2022-04-01</td>\n",
       "      <td>2</td>\n",
       "      <td>South Africa</td>\n",
       "      <td>ZA</td>\n",
       "      <td>NaN</td>\n",
       "      <td>NaN</td>\n",
       "      <td>NaN</td>\n",
       "      <td>59.424655</td>\n",
       "      <td>11.474345</td>\n",
       "      <td>70.899</td>\n",
       "      <td>27.400000</td>\n",
       "      <td>29.615578</td>\n",
       "      <td>83.815926</td>\n",
       "      <td>90.593330</td>\n",
       "      <td>16.380379</td>\n",
       "      <td>2022</td>\n",
       "    </tr>\n",
       "    <tr>\n",
       "      <th>1861</th>\n",
       "      <td>2022-07-01</td>\n",
       "      <td>3</td>\n",
       "      <td>South Africa</td>\n",
       "      <td>ZA</td>\n",
       "      <td>NaN</td>\n",
       "      <td>NaN</td>\n",
       "      <td>NaN</td>\n",
       "      <td>55.023845</td>\n",
       "      <td>8.808155</td>\n",
       "      <td>63.832</td>\n",
       "      <td>26.800000</td>\n",
       "      <td>28.021041</td>\n",
       "      <td>86.201035</td>\n",
       "      <td>90.128456</td>\n",
       "      <td>17.988613</td>\n",
       "      <td>2022</td>\n",
       "    </tr>\n",
       "    <tr>\n",
       "      <th>1862</th>\n",
       "      <td>2022-10-01</td>\n",
       "      <td>4</td>\n",
       "      <td>South Africa</td>\n",
       "      <td>ZA</td>\n",
       "      <td>223.466082</td>\n",
       "      <td>22.566317</td>\n",
       "      <td>246.032399</td>\n",
       "      <td>57.207317</td>\n",
       "      <td>9.784683</td>\n",
       "      <td>66.992</td>\n",
       "      <td>25.600000</td>\n",
       "      <td>27.228935</td>\n",
       "      <td>85.394249</td>\n",
       "      <td>90.827911</td>\n",
       "      <td>16.968498</td>\n",
       "      <td>2022</td>\n",
       "    </tr>\n",
       "  </tbody>\n",
       "</table>\n",
       "<p>1863 rows × 16 columns</p>\n",
       "</div>"
      ],
      "text/plain": [
       "           date  quarter       country iso       GG_dc      GG_fc       GG_tt  \\\n",
       "0    2005-10-01        4     Argentina  AR   53.093401  51.328602  104.422002   \n",
       "1    2006-01-01        1     Argentina  AR         NaN        NaN         NaN   \n",
       "2    2006-04-01        2     Argentina  AR         NaN        NaN         NaN   \n",
       "3    2006-07-01        3     Argentina  AR         NaN        NaN         NaN   \n",
       "4    2006-10-01        4     Argentina  AR   55.662273  53.414481  109.076755   \n",
       "...         ...      ...           ...  ..         ...        ...         ...   \n",
       "1858 2021-10-01        4  South Africa  ZA  214.589359  20.566300  235.155660   \n",
       "1859 2022-01-01        1  South Africa  ZA         NaN        NaN         NaN   \n",
       "1860 2022-04-01        2  South Africa  ZA         NaN        NaN         NaN   \n",
       "1861 2022-07-01        3  South Africa  ZA         NaN        NaN         NaN   \n",
       "1862 2022-10-01        4  South Africa  ZA  223.466082  22.566317  246.032399   \n",
       "\n",
       "       GG_dc_XB   GG_fc_XB  GG_tt_XB  GG_dc_XB_pc  GG_tt_XB_pc  \\\n",
       "0      7.541865  22.258135    29.800    14.204901    28.538046   \n",
       "1      7.700805  25.499195    33.200    14.472681    31.579782   \n",
       "2      8.212016  26.787984    35.000    15.258669    32.873738   \n",
       "3      9.030800  26.369200    35.400    16.610674    33.171308   \n",
       "4      5.470265  33.029735    38.500     9.827599    35.296247   \n",
       "...         ...        ...       ...          ...          ...   \n",
       "1858  60.514199   9.664801    70.179    28.200000    29.843637   \n",
       "1859  67.792938   7.662062    75.455    28.600000    29.290614   \n",
       "1860  59.424655  11.474345    70.899    27.400000    29.615578   \n",
       "1861  55.023845   8.808155    63.832    26.800000    28.021041   \n",
       "1862  57.207317   9.784683    66.992    25.600000    27.228935   \n",
       "\n",
       "      GG_share_dc_XB  GG_share_dc  ExchangeRate  Year  \n",
       "0          25.308271    50.845032      3.043147  2005  \n",
       "1          23.195196    50.612545      3.081626  2006  \n",
       "2          23.462902    50.549187      3.091324  2006  \n",
       "3          25.510735    50.944618      3.104265  2006  \n",
       "4          14.208481    51.030373      3.075171  2006  \n",
       "...              ...          ...           ...   ...  \n",
       "1858       86.228355    91.254181     15.947819  2021  \n",
       "1859       89.845520    92.015053     14.568688  2022  \n",
       "1860       83.815926    90.593330     16.380379  2022  \n",
       "1861       86.201035    90.128456     17.988613  2022  \n",
       "1862       85.394249    90.827911     16.968498  2022  \n",
       "\n",
       "[1863 rows x 16 columns]"
      ]
     },
     "execution_count": 7,
     "metadata": {},
     "output_type": "execute_result"
    }
   ],
   "source": [
    "df"
   ]
  },
  {
   "cell_type": "code",
   "execution_count": 10,
   "id": "fb51f988",
   "metadata": {},
   "outputs": [],
   "source": [
    "df_em_debt = df[['Year', 'GG_dc', 'GG_fc']].dropna()\n",
    "df_em_debt.rename(columns={\"GG_dc\": \"Local Currency Debt\", \"GG_fc\": \"External Debt\"}, inplace=True)\n",
    "df_em_debt = df_em_debt.groupby(['Year'])[['External Debt', 'Local Currency Debt']].sum().reset_index()"
   ]
  },
  {
   "cell_type": "code",
   "execution_count": 13,
   "id": "ea1f1920",
   "metadata": {},
   "outputs": [
    {
     "data": {
      "image/png": "[encoded data removed]",
      "text/plain": [
       "<Figure size 1008x504 with 1 Axes>"
      ]
     },
     "metadata": {},
     "output_type": "display_data"
    }
   ],
   "source": [
    "sns.set(style='white')\n",
    "df_em_debt.set_index('Year').plot(kind='bar', stacked=True, color=['grey', 'orange'], figsize=(14,7))\n",
    "plt.title('EM Local vs External Debt Outstanding', fontsize=14)\n",
    "plt.xlabel('Year')\n",
    "plt.ylabel('Total Outstanding Debt (in $bn)')\n",
    "plt.xticks(rotation=45);"
   ]
  },
  {
   "cell_type": "code",
   "execution_count": 14,
   "id": "f2097ce9",
   "metadata": {
    "scrolled": true
   },
   "outputs": [],
   "source": [
    "no_of_years = len(df_em_debt)\n",
    "\n",
    "total_lc_debt_2005 = df_em_debt[df_em_debt['Year'] == '2005'].values[0][2]\n",
    "total_lc_debt_2022 = df_em_debt[df_em_debt['Year'] == '2022'].values[0][2]\n",
    "\n",
    "total_hc_debt_2005 = df_em_debt[df_em_debt['Year'] == '2005'].values[0][1]\n",
    "total_hc_debt_2022 = df_em_debt[df_em_debt['Year'] == '2022'].values[0][1]\n",
    "\n",
    "cagr_lc_debt = (total_lc_debt_2022 / total_lc_debt_2005) ** (1 / no_of_years) - 1\n",
    "cagr_hc_debt = (total_hc_debt_2022 / total_hc_debt_2005) ** (1 / no_of_years) - 1"
   ]
  },
  {
   "cell_type": "code",
   "execution_count": 19,
   "id": "36bab29e",
   "metadata": {},
   "outputs": [
    {
     "name": "stdout",
     "output_type": "stream",
     "text": [
      "Local sovereign debt markets have grown by a compound annual growth rate (CAGR) of 11.03% \n",
      "Hard currency sovereign debt markets have a CAGR of 5.35% \n"
     ]
    }
   ],
   "source": [
    "print('Local sovereign debt markets have grown by a compound annual growth rate (CAGR) of {:.2%} '.format(cagr_lc_debt))\n",
    "print('Hard currency sovereign debt markets have a CAGR of {:.2%} '.format(cagr_hc_debt))"
   ]
  },
  {
   "cell_type": "markdown",
   "id": "e07834b8",
   "metadata": {},
   "source": [
    "- The GFC of 2008 only had a **minor effect** on the thriving growth of local debt\n",
    "- This is even when **EM currencies weakened singificantly**, which had a negative effect on the USD value of local debt.\n",
    "- By the end of 2022, the EM Local Debt Market totalled **USD 16.1 trillion**."
   ]
  },
  {
   "cell_type": "markdown",
   "id": "0be85dcd",
   "metadata": {},
   "source": [
    "## Approximately 50% of Local Government Debt is Chinese"
   ]
  },
  {
   "cell_type": "code",
   "execution_count": 24,
   "id": "8b3450c7",
   "metadata": {},
   "outputs": [],
   "source": [
    "df_china_debt = df[['Year', 'GG_dc']][df['country'] == \"China\"].dropna()\n",
    "df_china_debt['Total EM Local Currency Debt'] = df_em_debt['Local Currency Debt'].values\n",
    "df_china_debt['% of Total Local Gov Debt'] = (df_china_debt['GG_dc'] / df_china_debt['Total EM Local Currency Debt']) * 100\n",
    "df_china_debt['GG_dc'] = df_china_debt['GG_dc'] / 1000"
   ]
  },
  {
   "cell_type": "code",
   "execution_count": 25,
   "id": "ee68f4ce",
   "metadata": {},
   "outputs": [],
   "source": [
    "del df_china_debt['Total EM Local Currency Debt']\n",
    "df_china_debt.rename(columns={\"GG_dc\": \"Chinese Local Debt\"}, inplace=True)"
   ]
  },
  {
   "cell_type": "code",
   "execution_count": 28,
   "id": "dc475939",
   "metadata": {},
   "outputs": [
    {
     "data": {
      "image/png": "[encoded data removed]",
      "text/plain": [
       "<Figure size 1008x504 with 2 Axes>"
      ]
     },
     "metadata": {},
     "output_type": "display_data"
    }
   ],
   "source": [
    "sns.set(style='white')\n",
    "\n",
    "fig, ax1 = plt.subplots(figsize=(14,7))\n",
    "ax2 = ax1.twinx()\n",
    "\n",
    "ax1.plot(df_china_debt['Year'], df_china_debt['Chinese Local Debt'], color='orange', label='Chinese Local Debt', linestyle='dashed')\n",
    "ax2.plot(df_china_debt['Year'], df_china_debt['% of Total Local Gov Debt'], color='grey', label='% of Total Local Gov Debt')\n",
    "\n",
    "ax1.set_xlabel(\"Year\")\n",
    "ax1.set_ylabel(\"Total Outstanding Debt (in $tn)\")\n",
    "\n",
    "ax2.set_xlabel(\"Year\")\n",
    "\n",
    "fig.legend(loc=2)\n",
    "\n",
    "fig.suptitle('Local CNY Government Bonds', fontsize=16)\n",
    "plt.xticks(rotation=45);"
   ]
  },
  {
   "cell_type": "code",
   "execution_count": null,
   "id": "15ed4a1b",
   "metadata": {},
   "outputs": [],
   "source": []
  }
 ],
 "metadata": {
  "kernelspec": {
   "display_name": "Python 3 (ipykernel)",
   "language": "python",
   "name": "python3"
  },
  "language_info": {
   "codemirror_mode": {
    "name": "ipython",
    "version": 3
   },
   "file_extension": ".py",
   "mimetype": "text/x-python",
   "name": "python",
   "nbconvert_exporter": "python",
   "pygments_lexer": "ipython3",
   "version": "3.9.7"
  }
 },
 "nbformat": 4,
 "nbformat_minor": 5
}
